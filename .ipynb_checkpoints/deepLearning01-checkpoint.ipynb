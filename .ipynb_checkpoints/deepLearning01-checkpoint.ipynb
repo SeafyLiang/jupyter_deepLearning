{
 "cells": [
  {
   "cell_type": "code",
   "execution_count": 1,
   "metadata": {},
   "outputs": [
    {
     "name": "stdout",
     "output_type": "stream",
     "text": [
      "The Zen of Python, by Tim Peters\n",
      "\n",
      "Beautiful is better than ugly.\n",
      "Explicit is better than implicit.\n",
      "Simple is better than complex.\n",
      "Complex is better than complicated.\n",
      "Flat is better than nested.\n",
      "Sparse is better than dense.\n",
      "Readability counts.\n",
      "Special cases aren't special enough to break the rules.\n",
      "Although practicality beats purity.\n",
      "Errors should never pass silently.\n",
      "Unless explicitly silenced.\n",
      "In the face of ambiguity, refuse the temptation to guess.\n",
      "There should be one-- and preferably only one --obvious way to do it.\n",
      "Although that way may not be obvious at first unless you're Dutch.\n",
      "Now is better than never.\n",
      "Although never is often better than *right* now.\n",
      "If the implementation is hard to explain, it's a bad idea.\n",
      "If the implementation is easy to explain, it may be a good idea.\n",
      "Namespaces are one honking great idea -- let's do more of those!\n"
     ]
    }
   ],
   "source": [
    "import this"
   ]
  },
  {
   "cell_type": "code",
   "execution_count": 9,
   "metadata": {},
   "outputs": [
    {
     "data": {
      "text/plain": [
       "2.5"
      ]
     },
     "execution_count": 9,
     "metadata": {},
     "output_type": "execute_result"
    }
   ],
   "source": [
    "# array基本操作\n",
    "import numpy as np\n",
    "\n",
    "a=[1,2,3,4]               # a是python中的list类型\n",
    "b=np.array(a)             # 数组化之后b的类型变为 ayyay\n",
    "type(b)                   # b的类型是<type 'numpy.ndarray'>\n",
    "\n",
    "b.shape                   # (4,)\n",
    "b.argmax()                # 取最大索引：3\n",
    "b.max()                   # 取最大值：4\n",
    "b.mean()                  # 取平均值：2.5 \n"
   ]
  },
  {
   "cell_type": "code",
   "execution_count": 12,
   "metadata": {},
   "outputs": [
    {
     "data": {
      "text/plain": [
       "array([[ 0,  4,  8],\n",
       "       [ 1,  5,  9],\n",
       "       [ 2,  6, 10],\n",
       "       [ 3,  7, 11]])"
      ]
     },
     "execution_count": 12,
     "metadata": {},
     "output_type": "execute_result"
    }
   ],
   "source": [
    "# numpy中实现矩阵转置\n",
    "import numpy as np\n",
    "\n",
    "x=np.array(np.arange(12).reshape((3,4)))\n",
    "x\n",
    "'''\n",
    "array([[ 0,  1,  2,  3],\n",
    "       [ 4,  5,  6,  7],\n",
    "       [ 8,  9, 10, 11]])\n",
    "'''\n",
    "t=x.transpose()\n",
    "t\n",
    "'''\n",
    "array([[ 0,  4,  8],\n",
    "       [ 1,  5,  9],\n",
    "       [ 2,  6, 10],\n",
    "       [ 3,  7, 11]])\n",
    "'''"
   ]
  },
  {
   "cell_type": "code",
   "execution_count": 22,
   "metadata": {},
   "outputs": [
    {
     "data": {
      "text/plain": [
       "0.9682458365518543"
      ]
     },
     "execution_count": 22,
     "metadata": {},
     "output_type": "execute_result"
    }
   ],
   "source": [
    "# numpy基础数学运算\n",
    "import numpy as np\n",
    "\n",
    "# 绝对值：1\n",
    "a=np.abs(-1)\n",
    "\n",
    "# sin函数：1.0\n",
    "b=np.sin(np.pi/2)\n",
    "\n",
    "# tanh逆函数：0.5000010715784053\n",
    "c=np.arctanh(0.462118)\n",
    "\n",
    "# e为底的指数函数：20.085536923187668\n",
    "d=np.exp(3)\n",
    "\n",
    "# 2的3次方：8\n",
    "f=np.power(2,3)\n",
    "\n",
    "# 点积：11\n",
    "g=np.dot([1,2],[3,4])\n",
    "\n",
    "# 开方：5.0\n",
    "h=np.sqrt(25)\n",
    "\n",
    "# 求和：10\n",
    "l=np.sum([1,2,3,4])\n",
    "\n",
    "# 平均值：5.5\n",
    "m=np.mean([4,5,6,7])\n",
    "\n",
    "# 标准差：0.9682458365518543\n",
    "p=np.std([1,2,3,2,1,3,2,0])\n"
   ]
  },
  {
   "cell_type": "code",
   "execution_count": 32,
   "metadata": {},
   "outputs": [
    {
     "data": {
      "text/plain": [
       "b'\\xfc\\x18\\xcf\\x01\\xeb\\xf2\\x93nX'"
      ]
     },
     "execution_count": 32,
     "metadata": {},
     "output_type": "execute_result"
    }
   ],
   "source": [
    "# random模块相关操作\n",
    "import numpy as np\n",
    "\n",
    "# 设置随机数种子\n",
    "np.random.seed(42)\n",
    "\n",
    "# 产生一个1x3,[0,1]之间的浮点型随机数\n",
    "# array([[0.37454012, 0.95071431, 0.73199394]])\n",
    "np.random.rand(1,3)\n",
    "\n",
    "# 产生一个[0,1]之间的浮点型随机数\n",
    "np.random.random()\n",
    "\n",
    "# 从a中有放回地随机采样7个\n",
    "# array([7, 2, 3, 7, 3, 3, 5])\n",
    "a=np.array([1,2,3,4,5,6,7])\n",
    "np.random.choice(a,7)\n",
    "\n",
    "# 从a中无放回地随机采样7个\n",
    "# array([1, 6, 7, 2, 5, 3, 4])\n",
    "np.random.choice(a,7,replace=False)\n",
    "\n",
    "# 对a进行乱序并返回一个新的array\n",
    "# array([6, 3, 7, 1, 5, 4, 2])\n",
    "b=np.random.permutation(a)\n",
    "\n",
    "# 生成一个长度为9的随机bytes序列并作为str返回\n",
    "# b'\\xfc\\x18\\xcf\\x01\\xeb\\xf2\\x93nX'\n",
    "np.random.bytes(9)"
   ]
  },
  {
   "cell_type": "code",
   "execution_count": 34,
   "metadata": {},
   "outputs": [
    {
     "data": {
      "text/plain": [
       "array([[ 3,  4,  5],\n",
       "       [ 6,  7,  8],\n",
       "       [ 9, 10, 11],\n",
       "       [12, 13, 14]])"
      ]
     },
     "execution_count": 34,
     "metadata": {},
     "output_type": "execute_result"
    }
   ],
   "source": [
    "# 广播机制的理解\n",
    "import numpy as np\n",
    "\n",
    "a = np.array([\n",
    "    [1, 2, 3],\n",
    "    [4, 5, 6]\n",
    "])\n",
    "\n",
    "b = np.array([\n",
    "    [1, 2, 3],\n",
    "    [1, 2, 3]\n",
    "])\n",
    "'''\n",
    "维度一样的array，对位运算\n",
    "array([[2, 4, 6],\n",
    "       [5, 7, 9]])\n",
    "\n",
    "'''\n",
    "a+b\n",
    "\n",
    "c = np.array([\n",
    "    [1, 2, 3],\n",
    "    [4, 5, 6],\n",
    "    [7, 8, 9],\n",
    "    [10, 11, 12]\n",
    "])\n",
    "d=np.array([2, 2, 2])\n",
    "'''\n",
    "广播机制让计算的表达式保持简洁\n",
    "d和c的每一行分别运算\n",
    "array([[ 3,  4,  5],\n",
    "       [ 6,  7,  8],\n",
    "       [ 9, 10, 11],\n",
    "       [12, 13, 14]])\n",
    "'''\n",
    "c+d"
   ]
  },
  {
   "cell_type": "code",
   "execution_count": 40,
   "metadata": {},
   "outputs": [
    {
     "name": "stdout",
     "output_type": "stream",
     "text": [
      "非向量化 - 计算时间：785.1893901824951ms\n",
      "\n",
      "向量化 - 计算时间：1.0001659393310547ms\n",
      "\n"
     ]
    }
   ],
   "source": [
    "# 通过一个矩阵相乘的例子展示向量化对于代码计算速度的提升效果\n",
    "import numpy as np\n",
    "import time\n",
    "\n",
    "# 初始化两个1000000维的随机向量v1,v2用于矩阵相乘计算\n",
    "v1 = np.random.rand(1000000)\n",
    "v2 = np.random.rand(1000000)\n",
    "v=0\n",
    "\n",
    "# 设置tic和toc记录计算开始和结束时间\n",
    "# 矩阵相乘 - 非向量化版本\n",
    "tic = time.time()\n",
    "for i in range(1000000):\n",
    "    v += v1[i] * v2[i]\n",
    "toc = time.time()\n",
    "print(\"非向量化 - 计算时间：\" + str((toc - tic) * 1000) + \"ms\" +\"\\n\")\n",
    "\n",
    "# 矩阵相乘 - 向量化版本\n",
    "tic = time.time()\n",
    "v = np.dot(v1, v2)\n",
    "toc = time.time()\n",
    "print(\"向量化 - 计算时间：\" + str((toc - tic) * 1000) + \"ms\" +\"\\n\")\n",
    "\n",
    "'''\n",
    "非向量化 - 计算时间：785.1893901824951ms\n",
    "\n",
    "向量化 - 计算时间：1.0001659393310547ms\n",
    "'''"
   ]
  },
  {
   "cell_type": "code",
   "execution_count": null,
   "metadata": {},
   "outputs": [],
   "source": []
  }
 ],
 "metadata": {
  "kernelspec": {
   "display_name": "Python 3",
   "language": "python",
   "name": "python3"
  },
  "language_info": {
   "codemirror_mode": {
    "name": "ipython",
    "version": 3
   },
   "file_extension": ".py",
   "mimetype": "text/x-python",
   "name": "python",
   "nbconvert_exporter": "python",
   "pygments_lexer": "ipython3",
   "version": "3.9.0"
  }
 },
 "nbformat": 4,
 "nbformat_minor": 4
}
